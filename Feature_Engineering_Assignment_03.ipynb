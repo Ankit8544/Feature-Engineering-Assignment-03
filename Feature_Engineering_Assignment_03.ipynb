{
 "cells": [
  {
   "cell_type": "markdown",
   "metadata": {},
   "source": [
    "Q.No-01    What is data encoding? How is it useful in data science?"
   ]
  },
  {
   "cell_type": "markdown",
   "metadata": {},
   "source": [
    "Ans :-"
   ]
  },
  {
   "cell_type": "markdown",
   "metadata": {},
   "source": [
    "**Data encoding** is a fundamental concept in data science and computer science that involves converting data from one format or representation to another. It plays a crucial role in various aspects of data handling, analysis, and machine learning."
   ]
  },
  {
   "cell_type": "markdown",
   "metadata": {},
   "source": [
    "**`These's a closer look at data encoding and its usefulness in data science` :-**"
   ]
  },
  {
   "cell_type": "markdown",
   "metadata": {},
   "source": [
    "1. **Representation Transformation**: Data encoding allows you to transform data from one representation to another. This transformation can involve converting data from human-readable forms (like text) to machine-readable forms (like binary), or it can involve converting data from one data type to another (e.g., from integers to floating-point numbers).\n",
    "\n",
    "2. **Normalization**: Data encoding is often used to normalize data, which means scaling data to a common range or format. This is crucial when dealing with numerical data in machine learning models because it ensures that all features have a similar scale, preventing some features from dominating others.\n",
    "\n",
    "3. **Categorical Data Handling**: In data science, datasets often contain categorical variables (e.g., colors, categories, or labels). These need to be encoded into numerical values before they can be used in machine learning algorithms. Common techniques include one-hot encoding, label encoding, and ordinal encoding.\n",
    "\n",
    "4. **Text Data Processing**: Natural language processing (NLP) is a significant part of data science, and text data often needs to be encoded into numerical representations for analysis and modeling. Techniques like TF-IDF (Term Frequency-Inverse Document Frequency) and word embeddings (e.g., Word2Vec, GloVe) are used for this purpose.\n",
    "\n",
    "5. **Image and Audio Data**: Encoding is essential for working with image and audio data. Images, for instance, are often represented as pixel values, and encoding can involve resizing, normalization, or converting color images to grayscale. Audio data may require encoding as spectrograms or other numerical representations.\n",
    "\n",
    "6. **Dimensionality Reduction**: Some encoding techniques, like Principal Component Analysis (PCA), are used for dimensionality reduction. These techniques transform the data into a lower-dimensional space while preserving as much information as possible.\n",
    "\n",
    "7. **Security**: Encoding is also used in data security, where sensitive information is often encoded or encrypted to protect it from unauthorized access.\n",
    "\n",
    "8. **Compression**: Data encoding is used in data compression algorithms to reduce the amount of storage or bandwidth required to transmit data efficiently."
   ]
  },
  {
   "cell_type": "markdown",
   "metadata": {},
   "source": [
    "`In summary`, data encoding is essential in data science because it enables data to be transformed into suitable formats for analysis, modeling, and other tasks. It helps handle various types of data, ensures data quality, and allows for the application of machine learning algorithms on the data. The choice of encoding technique depends on the nature of the data and the specific requirements of the data analysis or machine learning task at hand."
   ]
  },
  {
   "cell_type": "markdown",
   "metadata": {},
   "source": [
    "---------------------------------------------------------------------------------------------------------------------------"
   ]
  },
  {
   "cell_type": "markdown",
   "metadata": {},
   "source": [
    "Q.No-02    What is nominal encoding? Provide an example of how you would use it in a real-world scenario."
   ]
  },
  {
   "cell_type": "markdown",
   "metadata": {},
   "source": [
    "Ans :-"
   ]
  },
  {
   "cell_type": "markdown",
   "metadata": {},
   "source": [
    "**Nominal encoding** is also known as one-hot encoding or one-of-N encoding. It is a technique used in data preprocessing to convert categorical data into a numerical format that can be fed into machine learning algorithms. It is primarily used for categorical variables with no inherent ordinal relationship between their values. In nominal encoding, each category or class within a categorical variable is represented as a binary (0 or 1) vector, where each element of the vector corresponds to a unique category."
   ]
  },
  {
   "cell_type": "markdown",
   "metadata": {},
   "source": [
    "**`Here's an example of how nominal encoding can be used in a real-world scenario` :-**"
   ]
  },
  {
   "cell_type": "markdown",
   "metadata": {},
   "source": [
    "**Scenario:** Predicting Customer Churn in a Telecommunications Company\n",
    "\n",
    "   -   Suppose we work for a telecommunications company and you want to build a machine learning model to predict customer churn (whether a customer will cancel their subscription) based on various customer attributes, including categorical features like \"Subscription Plan,\" \"Payment Method,\" and \"Geographic Region.\""
   ]
  },
  {
   "cell_type": "markdown",
   "metadata": {},
   "source": [
    "1. **Data Preparation:** First, we gather customer data, which includes categorical features like \"Subscription Plan,\" \"Payment Method,\" and \"Geographic Region.\""
   ]
  },
  {
   "cell_type": "markdown",
   "metadata": {},
   "source": [
    "2. **Nominal Encoding:** We decide to use nominal encoding to convert these categorical features into a format suitable for machine learning. "
   ]
  },
  {
   "cell_type": "markdown",
   "metadata": {},
   "source": [
    "**`Here's how you would do it` :-**"
   ]
  },
  {
   "cell_type": "markdown",
   "metadata": {},
   "source": [
    "   - \"$Subscription Plan$\" :\n",
    "\n",
    "     - $Original categories$ -  \"$Basic$\", \"$Premium$\", \"$Pro$\"\n",
    "\n",
    "     - $Nominal encoding$ -\n",
    "\n",
    "       - \"$Basic$\" $->$ $[1, 0, 0]$\n",
    "\n",
    "       - \"$Premium$\" $->$ $[0, 1, 0]$\n",
    "\n",
    "       - \"$Pro$\" $->$ $[0, 0, 1]$"
   ]
  },
  {
   "cell_type": "markdown",
   "metadata": {},
   "source": [
    "   - \"$Payment Method$\" :\n",
    "\n",
    "     - $Original categories$ - \"$Credit Card$\", \"$PayPal$\", \"$Bank Transfer$\"\n",
    "\n",
    "     - $Nominal encoding$ -\n",
    "\n",
    "       - \"$Credit Card$\" $->$ $[1, 0, 0]$\n",
    "\n",
    "       - \"$PayPal$\" $->$ $[0, 1, 0]$\n",
    "       \n",
    "       - \"$Bank Transfer$\" $->$ $[0, 0, 1]$"
   ]
  },
  {
   "cell_type": "markdown",
   "metadata": {},
   "source": [
    "   - \"$Geographic Region$\" :\n",
    "\n",
    "     - $Original categories$ - \"$East$\", \"$West$\", \"$Central$\"\n",
    "\n",
    "     - $Nominal encoding$ -\n",
    "\n",
    "       - \"$East$\" $->$ $[1, 0, 0]$\n",
    "\n",
    "       - \"$West$\" $->$ $[0, 1, 0]$\n",
    "\n",
    "       - \"$Central$\" $->$ $[0, 0, 1]$"
   ]
  },
  {
   "cell_type": "markdown",
   "metadata": {},
   "source": [
    "3. **Building the Model:** With the categorical features successfully nominal encoded, you can now combine them with other numerical features and train a machine learning model (e.g., logistic regression, decision tree, or neural network) to predict customer churn."
   ]
  },
  {
   "cell_type": "markdown",
   "metadata": {},
   "source": [
    "**Nominal encoding** ensures that the categorical variables are represented in a way that the model can understand and learn from, without introducing any ordinal relationships that don't exist in the original data. This approach is particularly useful when dealing with categorical data in various machine learning applications, including customer churn prediction, recommendation systems, and natural language processing tasks."
   ]
  },
  {
   "cell_type": "markdown",
   "metadata": {},
   "source": [
    "---------------------------------------------------------------------------------------------------------------------------"
   ]
  },
  {
   "cell_type": "markdown",
   "metadata": {},
   "source": [
    "Q.No-03    In what situations is nominal encoding preferred over one-hot encoding? Provide a practical example."
   ]
  },
  {
   "cell_type": "markdown",
   "metadata": {},
   "source": [
    "Ans :-"
   ]
  },
  {
   "cell_type": "markdown",
   "metadata": {},
   "source": [
    "**Nominal encoding** is also known as label encoding. It is a method of encoding categorical data where each category is assigned a unique integer label."
   ]
  },
  {
   "cell_type": "markdown",
   "metadata": {},
   "source": [
    "**`This encoding is typically preferred over one-hot encoding in the following situations` :-**"
   ]
  },
  {
   "cell_type": "markdown",
   "metadata": {},
   "source": [
    "1. **Ordinal Data**: When the categorical variable represents ordinal data, where the categories have a meaningful order or ranking, nominal encoding can be a better choice. One-hot encoding would not capture the ordinal relationship between categories.\n",
    "\n",
    "   **Example**: Suppose you have a dataset with an \"Education Level\" feature, where categories include \"High School,\" \"Bachelor's Degree,\" \"Master's Degree,\" and \"Ph.D.\" These categories have a clear order from least to most education, making nominal encoding more appropriate."
   ]
  },
  {
   "cell_type": "markdown",
   "metadata": {},
   "source": [
    "2. **Reducing Dimensionality**: One-hot encoding can lead to a high-dimensional dataset when there are many categories in a categorical variable. This can be problematic, especially when dealing with limited computational resources or algorithms sensitive to high dimensionality. In such cases, nominal encoding can help reduce the dimensionality by representing the categorical variable as a single column of integers.\n",
    "\n",
    "   **Example**: Consider a dataset with a \"Country\" feature that has 100 different countries. One-hot encoding would create 100 binary columns, whereas nominal encoding would represent these countries with integers from 1 to 100."
   ]
  },
  {
   "cell_type": "markdown",
   "metadata": {},
   "source": [
    "3. **Improving Interpretability**: In some cases, it may be easier to interpret models when categorical variables are encoded as integers using nominal encoding. It can make the model output more human-readable and interpretable.\n",
    "\n",
    "   **Example**: In a classification problem predicting customer satisfaction, a nominal encoding for \"Customer Feedback\" with labels like \"Excellent,\" \"Good,\" \"Fair,\" and \"Poor\" might be more interpretable than one-hot encoding."
   ]
  },
  {
   "cell_type": "markdown",
   "metadata": {},
   "source": [
    "`However`, it's essential to be cautious when using nominal encoding, as it implies ordinal relationships between categories even when there may not be any. For truly nominal data (categories with no inherent order), one-hot encoding is usually a safer choice to avoid introducing unintentional relationships between categories. Additionally, some machine learning algorithms may misinterpret the integer labels as having numerical meaning, which can lead to incorrect results."
   ]
  },
  {
   "cell_type": "markdown",
   "metadata": {},
   "source": [
    "`In summary`, nominal encoding is preferred over one-hot encoding when dealing with ordinal data, aiming to reduce dimensionality, or when interpretability is a primary concern. Care should be taken to ensure that the encoding method aligns with the nature of the categorical data and the requirements of the specific machine learning task."
   ]
  },
  {
   "cell_type": "markdown",
   "metadata": {},
   "source": [
    "---------------------------------------------------------------------------------------------------------------------------"
   ]
  },
  {
   "cell_type": "markdown",
   "metadata": {},
   "source": [
    "Q.No-04    Suppose you have a dataset containing categorical data with 5 unique values. Which encoding technique would you use to transform this data into a format suitable for machine learning algorithms? Explain why you made this choice."
   ]
  },
  {
   "cell_type": "markdown",
   "metadata": {},
   "source": [
    "Ans :-"
   ]
  },
  {
   "cell_type": "markdown",
   "metadata": {},
   "source": [
    "When dealing with categorical data with a limited number of unique values, there are several encoding techniques to transform this data into a format suitable for machine learning algorithms. The choice of encoding technique depends on the nature of the data and the machine learning algorithm you plan to use."
   ]
  },
  {
   "cell_type": "markdown",
   "metadata": {},
   "source": [
    "**`The two most common techniques` are :-**"
   ]
  },
  {
   "cell_type": "markdown",
   "metadata": {},
   "source": [
    "1. **`One-Hot Encoding` (OHE) :**\n",
    "\n",
    "   - **Explanation -** One-hot encoding is a widely used technique for handling categorical data, especially when the categorical variable has a relatively small number of unique values. It works by creating a binary column for each unique category and marking the presence of that category with a 1 or 0.\n",
    "\n",
    "   - **Why choose it -**\n",
    "\n",
    "     - One-hot encoding is suitable when the categorical variable does not have a natural order or ranking among its categories. Each category is treated as a separate and independent feature.\n",
    "\n",
    "     - It is compatible with most machine learning algorithms, as it doesn't introduce any assumptions about the relationships between categories.\n",
    "     \n",
    "     - One-hot encoding preserves all the information in the original categorical variable.\n",
    "\n",
    "   - **Example -** If you have a categorical variable \"Color\" with values \"Red,\" \"Green,\" \"Blue,\" \"Yellow,\" and \"Purple,\" one-hot encoding would create five binary columns, one for each color, where a row is marked with a 1 in the corresponding column if that color is present and 0 otherwise."
   ]
  },
  {
   "cell_type": "code",
   "execution_count": 31,
   "metadata": {},
   "outputs": [
    {
     "data": {
      "text/html": [
       "<div>\n",
       "<style scoped>\n",
       "    .dataframe tbody tr th:only-of-type {\n",
       "        vertical-align: middle;\n",
       "    }\n",
       "\n",
       "    .dataframe tbody tr th {\n",
       "        vertical-align: top;\n",
       "    }\n",
       "\n",
       "    .dataframe thead th {\n",
       "        text-align: right;\n",
       "    }\n",
       "</style>\n",
       "<table border=\"1\" class=\"dataframe\">\n",
       "  <thead>\n",
       "    <tr style=\"text-align: right;\">\n",
       "      <th></th>\n",
       "      <th>Color_Blue</th>\n",
       "      <th>Color_Green</th>\n",
       "      <th>Color_Purple</th>\n",
       "      <th>Color_Red</th>\n",
       "      <th>Color_Yellow</th>\n",
       "    </tr>\n",
       "  </thead>\n",
       "  <tbody>\n",
       "    <tr>\n",
       "      <th>0</th>\n",
       "      <td>False</td>\n",
       "      <td>False</td>\n",
       "      <td>False</td>\n",
       "      <td>True</td>\n",
       "      <td>False</td>\n",
       "    </tr>\n",
       "    <tr>\n",
       "      <th>1</th>\n",
       "      <td>False</td>\n",
       "      <td>True</td>\n",
       "      <td>False</td>\n",
       "      <td>False</td>\n",
       "      <td>False</td>\n",
       "    </tr>\n",
       "    <tr>\n",
       "      <th>2</th>\n",
       "      <td>True</td>\n",
       "      <td>False</td>\n",
       "      <td>False</td>\n",
       "      <td>False</td>\n",
       "      <td>False</td>\n",
       "    </tr>\n",
       "    <tr>\n",
       "      <th>3</th>\n",
       "      <td>False</td>\n",
       "      <td>False</td>\n",
       "      <td>False</td>\n",
       "      <td>False</td>\n",
       "      <td>True</td>\n",
       "    </tr>\n",
       "    <tr>\n",
       "      <th>4</th>\n",
       "      <td>False</td>\n",
       "      <td>False</td>\n",
       "      <td>True</td>\n",
       "      <td>False</td>\n",
       "      <td>False</td>\n",
       "    </tr>\n",
       "  </tbody>\n",
       "</table>\n",
       "</div>"
      ],
      "text/plain": [
       "   Color_Blue  Color_Green  Color_Purple  Color_Red  Color_Yellow\n",
       "0       False        False         False       True         False\n",
       "1       False         True         False      False         False\n",
       "2        True        False         False      False         False\n",
       "3       False        False         False      False          True\n",
       "4       False        False          True      False         False"
      ]
     },
     "metadata": {},
     "output_type": "display_data"
    }
   ],
   "source": [
    "import pandas as pd\n",
    "\n",
    "# Sample data\n",
    "data = {'Color': ['Red', 'Green', 'Blue', 'Yellow', 'Purple']}\n",
    "df = pd.DataFrame(data)\n",
    "\n",
    "# Perform one-hot encoding\n",
    "df_encoded = pd.get_dummies(df, columns=['Color'])\n",
    "\n",
    "# Display the encoded DataFrame\n",
    "display(df_encoded)\n"
   ]
  },
  {
   "cell_type": "markdown",
   "metadata": {},
   "source": [
    "2. **`Label Encoding` :**\n",
    "\n",
    "   - **Explanation -** Label encoding assigns a unique integer to each category in the categorical variable. Each category is mapped to an integer value, which can be useful for ordinal categorical variables where there is a clear order or ranking among the categories.\n",
    "\n",
    "   - **Why choose it -**\n",
    "\n",
    "     - Label encoding is suitable when there is a natural order or ranking among the categories, and this order is relevant to the problem you are trying to solve.\n",
    "\n",
    "     - It can reduce the dimensionality of the data, which might be beneficial in some cases compared to one-hot encoding.\n",
    "\n",
    "   - **Caution -** When using label encoding, some machine learning algorithms may interpret the integer labels as ordinal values, implying that there is an inherent order or magnitude relationship between the categories. This may not be appropriate for all categorical variables, especially nominal ones.\n",
    "\n",
    "   - **Example -** If you have a categorical variable \"Size\" with values \"Small,\" \"Medium,\" \"Large,\" label encoding might map them to 0, 1, and 2, respectively."
   ]
  },
  {
   "cell_type": "code",
   "execution_count": 33,
   "metadata": {},
   "outputs": [
    {
     "data": {
      "text/html": [
       "<div>\n",
       "<style scoped>\n",
       "    .dataframe tbody tr th:only-of-type {\n",
       "        vertical-align: middle;\n",
       "    }\n",
       "\n",
       "    .dataframe tbody tr th {\n",
       "        vertical-align: top;\n",
       "    }\n",
       "\n",
       "    .dataframe thead th {\n",
       "        text-align: right;\n",
       "    }\n",
       "</style>\n",
       "<table border=\"1\" class=\"dataframe\">\n",
       "  <thead>\n",
       "    <tr style=\"text-align: right;\">\n",
       "      <th></th>\n",
       "      <th>Size</th>\n",
       "      <th>Size_encoded</th>\n",
       "    </tr>\n",
       "  </thead>\n",
       "  <tbody>\n",
       "    <tr>\n",
       "      <th>0</th>\n",
       "      <td>Small</td>\n",
       "      <td>2</td>\n",
       "    </tr>\n",
       "    <tr>\n",
       "      <th>1</th>\n",
       "      <td>Medium</td>\n",
       "      <td>1</td>\n",
       "    </tr>\n",
       "    <tr>\n",
       "      <th>2</th>\n",
       "      <td>Large</td>\n",
       "      <td>0</td>\n",
       "    </tr>\n",
       "  </tbody>\n",
       "</table>\n",
       "</div>"
      ],
      "text/plain": [
       "     Size  Size_encoded\n",
       "0   Small             2\n",
       "1  Medium             1\n",
       "2   Large             0"
      ]
     },
     "metadata": {},
     "output_type": "display_data"
    }
   ],
   "source": [
    "from sklearn.preprocessing import LabelEncoder\n",
    "\n",
    "# Sample data\n",
    "data = {'Size': ['Small', 'Medium', 'Large']}\n",
    "df = pd.DataFrame(data)\n",
    "\n",
    "# Initialize the LabelEncoder\n",
    "label_encoder = LabelEncoder()\n",
    "\n",
    "# Apply label encoding to the 'Size' column\n",
    "df['Size_encoded'] = label_encoder.fit_transform(df['Size'])\n",
    "\n",
    "# Display the encoded DataFrame\n",
    "display(df)\n"
   ]
  },
  {
   "cell_type": "markdown",
   "metadata": {},
   "source": [
    "The choice between one-hot encoding and label encoding depends on the specific characteristics of our data and the nature of your machine learning problem. If there is no inherent order or ranking in our categorical data, one-hot encoding is generally a safer choice. However, if there is a meaningful order among the categories, label encoding may be more appropriate, but be mindful of the assumptions it introduces to your model."
   ]
  },
  {
   "cell_type": "markdown",
   "metadata": {},
   "source": [
    "---------------------------------------------------------------------------------------------------------------------------"
   ]
  },
  {
   "cell_type": "markdown",
   "metadata": {},
   "source": [
    "Q.No-05    In a machine learning project, you have a dataset with 1000 rows and 5 columns. Two of the columns are categorical, and the remaining three columns are numerical. If you were to use nominal encoding to transform the categorical data, how many new columns would be created? Show your calculations."
   ]
  },
  {
   "cell_type": "markdown",
   "metadata": {},
   "source": [
    "Ans :-"
   ]
  },
  {
   "cell_type": "markdown",
   "metadata": {},
   "source": [
    "**Nominal encoding** is also known as one-hot encoding. It is a technique used to transform categorical data into a binary format, where each category becomes a new binary column. For each unique category in a categorical column, a new binary column is created with a value of 1 or 0 indicating whether that category is present or not."
   ]
  },
  {
   "cell_type": "markdown",
   "metadata": {},
   "source": [
    "**`To calculate the number of new columns created by nominal encoding`, we need to sum up the number of unique categories in each of the two categorical columns.**"
   ]
  },
  {
   "cell_type": "markdown",
   "metadata": {},
   "source": [
    "**Let's assume you have a Python dataset where `categorical_column1` has `n1` unique categories and `categorical_column2` has `n2` unique categories. The number of new columns created for nominal encoding is equal to `n1 + n2`.**"
   ]
  },
  {
   "cell_type": "markdown",
   "metadata": {},
   "source": [
    "**`Here's how you can calculate it in Python code` :-**"
   ]
  },
  {
   "cell_type": "code",
   "execution_count": 7,
   "metadata": {},
   "outputs": [
    {
     "name": "stdout",
     "output_type": "stream",
     "text": [
      "Sample Data :-\n"
     ]
    },
    {
     "data": {
      "text/html": [
       "<div>\n",
       "<style scoped>\n",
       "    .dataframe tbody tr th:only-of-type {\n",
       "        vertical-align: middle;\n",
       "    }\n",
       "\n",
       "    .dataframe tbody tr th {\n",
       "        vertical-align: top;\n",
       "    }\n",
       "\n",
       "    .dataframe thead th {\n",
       "        text-align: right;\n",
       "    }\n",
       "</style>\n",
       "<table border=\"1\" class=\"dataframe\">\n",
       "  <thead>\n",
       "    <tr style=\"text-align: right;\">\n",
       "      <th></th>\n",
       "      <th>categorical_column1</th>\n",
       "      <th>categorical_column2</th>\n",
       "      <th>numerical_column1</th>\n",
       "      <th>numerical_column2</th>\n",
       "      <th>numerical_column3</th>\n",
       "    </tr>\n",
       "  </thead>\n",
       "  <tbody>\n",
       "    <tr>\n",
       "      <th>0</th>\n",
       "      <td>A</td>\n",
       "      <td>X</td>\n",
       "      <td>10</td>\n",
       "      <td>0.1</td>\n",
       "      <td>100</td>\n",
       "    </tr>\n",
       "    <tr>\n",
       "      <th>1</th>\n",
       "      <td>B</td>\n",
       "      <td>Y</td>\n",
       "      <td>20</td>\n",
       "      <td>0.2</td>\n",
       "      <td>200</td>\n",
       "    </tr>\n",
       "    <tr>\n",
       "      <th>2</th>\n",
       "      <td>C</td>\n",
       "      <td>Z</td>\n",
       "      <td>30</td>\n",
       "      <td>0.3</td>\n",
       "      <td>300</td>\n",
       "    </tr>\n",
       "    <tr>\n",
       "      <th>3</th>\n",
       "      <td>A</td>\n",
       "      <td>X</td>\n",
       "      <td>40</td>\n",
       "      <td>0.4</td>\n",
       "      <td>400</td>\n",
       "    </tr>\n",
       "    <tr>\n",
       "      <th>4</th>\n",
       "      <td>B</td>\n",
       "      <td>Y</td>\n",
       "      <td>50</td>\n",
       "      <td>0.5</td>\n",
       "      <td>500</td>\n",
       "    </tr>\n",
       "    <tr>\n",
       "      <th>5</th>\n",
       "      <td>D</td>\n",
       "      <td>Z</td>\n",
       "      <td>60</td>\n",
       "      <td>0.6</td>\n",
       "      <td>600</td>\n",
       "    </tr>\n",
       "  </tbody>\n",
       "</table>\n",
       "</div>"
      ],
      "text/plain": [
       "  categorical_column1 categorical_column2  numerical_column1  \\\n",
       "0                   A                   X                 10   \n",
       "1                   B                   Y                 20   \n",
       "2                   C                   Z                 30   \n",
       "3                   A                   X                 40   \n",
       "4                   B                   Y                 50   \n",
       "5                   D                   Z                 60   \n",
       "\n",
       "   numerical_column2  numerical_column3  \n",
       "0                0.1                100  \n",
       "1                0.2                200  \n",
       "2                0.3                300  \n",
       "3                0.4                400  \n",
       "4                0.5                500  \n",
       "5                0.6                600  "
      ]
     },
     "metadata": {},
     "output_type": "display_data"
    },
    {
     "name": "stdout",
     "output_type": "stream",
     "text": [
      "Calculation :-\n",
      "\tNumber of unique values for 'categorical_column1': 4\n",
      "\tNumber of unique values for 'categorical_column2': 3\n",
      "\n",
      "\tNumber of new columns created by nominal encoding: 7\n"
     ]
    }
   ],
   "source": [
    "import pandas as pd\n",
    "\n",
    "# Sample data\n",
    "print(\"Sample Data :-\")\n",
    "data = {\n",
    "    'categorical_column1': ['A', 'B', 'C', 'A', 'B', 'D'],\n",
    "    'categorical_column2': ['X', 'Y', 'Z', 'X', 'Y', 'Z'],\n",
    "    'numerical_column1': [10, 20, 30, 40, 50, 60],\n",
    "    'numerical_column2': [0.1, 0.2, 0.3, 0.4, 0.5, 0.6],\n",
    "    'numerical_column3': [100, 200, 300, 400, 500, 600]\n",
    "}\n",
    "\n",
    "df = pd.DataFrame(data)\n",
    "display(df)\n",
    "\n",
    "print(\"Calculation :-\")\n",
    "# Calculate the number of unique categories in each categorical column\n",
    "n1 = df['categorical_column1'].nunique()\n",
    "print(f\"\\tNumber of unique values for 'categorical_column1': {n1}\")\n",
    "n2 = df['categorical_column2'].nunique()\n",
    "print(f\"\\tNumber of unique values for 'categorical_column2': {n2}\")\n",
    "\n",
    "# Calculate the total number of new columns created by nominal encoding\n",
    "total_new_columns = n1 + n2\n",
    "print(f\"\\n\\tNumber of new columns created by nominal encoding: {total_new_columns}\")"
   ]
  },
  {
   "cell_type": "markdown",
   "metadata": {},
   "source": [
    "---------------------------------------------------------------------------------------------------------------------------"
   ]
  },
  {
   "cell_type": "markdown",
   "metadata": {},
   "source": [
    "Q.No-06    You are working with a dataset containing information about different types of animals, including their species, habitat, and diet. Which encoding technique would you use to transform the categorical data into a format suitable for machine learning algorithms? Justify your answer."
   ]
  },
  {
   "cell_type": "markdown",
   "metadata": {},
   "source": [
    "Ans :-"
   ]
  },
  {
   "cell_type": "markdown",
   "metadata": {},
   "source": [
    "When working with a dataset containing categorical data about different types of animals, including their species, habitat, and diet, you would typically use one-hot encoding or label encoding to transform the categorical data into a format suitable for machine learning algorithms. The choice between these two techniques depends on the nature of the categorical variables and the specific machine learning algorithm you plan to use."
   ]
  },
  {
   "cell_type": "markdown",
   "metadata": {},
   "source": [
    "**`Here's a justification for each technique` :-**"
   ]
  },
  {
   "cell_type": "markdown",
   "metadata": {},
   "source": [
    "1. **One-Hot Encoding**:\n",
    "\n",
    "   - **Justification**: One-hot encoding is a widely used technique for handling categorical data, especially when the categorical variables are nominal (unordered categories) and don't have a natural ordinal relationship. In your case, species, habitat, and diet are likely nominal variables, as there's no inherent order between different species, habitats, or diets.\n",
    "\n",
    "   - **How it works**: One-hot encoding creates binary columns for each category within a categorical variable. Each column represents a unique category, and a \"1\" is placed in the column corresponding to the category that applies to the observation, while all other columns get a \"0\". This ensures that the machine learning algorithm treats each category as independent and doesn't assume any ordinal relationship.\n",
    "\n",
    "   - **Example**: If you have a \"species\" variable with categories like \"Lion,\" \"Tiger,\" and \"Bear,\" one-hot encoding would create three binary columns, one for each category, with \"1\" indicating the presence of that species and \"0\" indicating the absence."
   ]
  },
  {
   "cell_type": "code",
   "execution_count": 15,
   "metadata": {},
   "outputs": [
    {
     "data": {
      "text/html": [
       "<div>\n",
       "<style scoped>\n",
       "    .dataframe tbody tr th:only-of-type {\n",
       "        vertical-align: middle;\n",
       "    }\n",
       "\n",
       "    .dataframe tbody tr th {\n",
       "        vertical-align: top;\n",
       "    }\n",
       "\n",
       "    .dataframe thead th {\n",
       "        text-align: right;\n",
       "    }\n",
       "</style>\n",
       "<table border=\"1\" class=\"dataframe\">\n",
       "  <thead>\n",
       "    <tr style=\"text-align: right;\">\n",
       "      <th></th>\n",
       "      <th>species</th>\n",
       "      <th>habitat</th>\n",
       "    </tr>\n",
       "  </thead>\n",
       "  <tbody>\n",
       "    <tr>\n",
       "      <th>0</th>\n",
       "      <td>Lion</td>\n",
       "      <td>Savannah</td>\n",
       "    </tr>\n",
       "    <tr>\n",
       "      <th>1</th>\n",
       "      <td>Tiger</td>\n",
       "      <td>Jungle</td>\n",
       "    </tr>\n",
       "    <tr>\n",
       "      <th>2</th>\n",
       "      <td>Bear</td>\n",
       "      <td>Forest</td>\n",
       "    </tr>\n",
       "    <tr>\n",
       "      <th>3</th>\n",
       "      <td>Lion</td>\n",
       "      <td>Savannah</td>\n",
       "    </tr>\n",
       "    <tr>\n",
       "      <th>4</th>\n",
       "      <td>Tiger</td>\n",
       "      <td>Jungle</td>\n",
       "    </tr>\n",
       "  </tbody>\n",
       "</table>\n",
       "</div>"
      ],
      "text/plain": [
       "  species   habitat\n",
       "0    Lion  Savannah\n",
       "1   Tiger    Jungle\n",
       "2    Bear    Forest\n",
       "3    Lion  Savannah\n",
       "4   Tiger    Jungle"
      ]
     },
     "metadata": {},
     "output_type": "display_data"
    },
    {
     "name": "stderr",
     "output_type": "stream",
     "text": [
      "c:\\Users\\HP\\AppData\\Local\\Programs\\Python\\Python39\\lib\\site-packages\\sklearn\\preprocessing\\_encoders.py:972: FutureWarning: `sparse` was renamed to `sparse_output` in version 1.2 and will be removed in 1.4. `sparse_output` is ignored unless you leave `sparse` to its default value.\n",
      "  warnings.warn(\n"
     ]
    },
    {
     "data": {
      "text/html": [
       "<div>\n",
       "<style scoped>\n",
       "    .dataframe tbody tr th:only-of-type {\n",
       "        vertical-align: middle;\n",
       "    }\n",
       "\n",
       "    .dataframe tbody tr th {\n",
       "        vertical-align: top;\n",
       "    }\n",
       "\n",
       "    .dataframe thead th {\n",
       "        text-align: right;\n",
       "    }\n",
       "</style>\n",
       "<table border=\"1\" class=\"dataframe\">\n",
       "  <thead>\n",
       "    <tr style=\"text-align: right;\">\n",
       "      <th></th>\n",
       "      <th>species</th>\n",
       "      <th>habitat</th>\n",
       "      <th>species_Lion</th>\n",
       "      <th>species_Tiger</th>\n",
       "      <th>habitat_Jungle</th>\n",
       "      <th>habitat_Savannah</th>\n",
       "    </tr>\n",
       "  </thead>\n",
       "  <tbody>\n",
       "    <tr>\n",
       "      <th>0</th>\n",
       "      <td>Lion</td>\n",
       "      <td>Savannah</td>\n",
       "      <td>1.0</td>\n",
       "      <td>0.0</td>\n",
       "      <td>0.0</td>\n",
       "      <td>1.0</td>\n",
       "    </tr>\n",
       "    <tr>\n",
       "      <th>1</th>\n",
       "      <td>Tiger</td>\n",
       "      <td>Jungle</td>\n",
       "      <td>0.0</td>\n",
       "      <td>1.0</td>\n",
       "      <td>1.0</td>\n",
       "      <td>0.0</td>\n",
       "    </tr>\n",
       "    <tr>\n",
       "      <th>2</th>\n",
       "      <td>Bear</td>\n",
       "      <td>Forest</td>\n",
       "      <td>0.0</td>\n",
       "      <td>0.0</td>\n",
       "      <td>0.0</td>\n",
       "      <td>0.0</td>\n",
       "    </tr>\n",
       "    <tr>\n",
       "      <th>3</th>\n",
       "      <td>Lion</td>\n",
       "      <td>Savannah</td>\n",
       "      <td>1.0</td>\n",
       "      <td>0.0</td>\n",
       "      <td>0.0</td>\n",
       "      <td>1.0</td>\n",
       "    </tr>\n",
       "    <tr>\n",
       "      <th>4</th>\n",
       "      <td>Tiger</td>\n",
       "      <td>Jungle</td>\n",
       "      <td>0.0</td>\n",
       "      <td>1.0</td>\n",
       "      <td>1.0</td>\n",
       "      <td>0.0</td>\n",
       "    </tr>\n",
       "  </tbody>\n",
       "</table>\n",
       "</div>"
      ],
      "text/plain": [
       "  species   habitat  species_Lion  species_Tiger  habitat_Jungle  \\\n",
       "0    Lion  Savannah           1.0            0.0             0.0   \n",
       "1   Tiger    Jungle           0.0            1.0             1.0   \n",
       "2    Bear    Forest           0.0            0.0             0.0   \n",
       "3    Lion  Savannah           1.0            0.0             0.0   \n",
       "4   Tiger    Jungle           0.0            1.0             1.0   \n",
       "\n",
       "   habitat_Savannah  \n",
       "0               1.0  \n",
       "1               0.0  \n",
       "2               0.0  \n",
       "3               1.0  \n",
       "4               0.0  "
      ]
     },
     "metadata": {},
     "output_type": "display_data"
    }
   ],
   "source": [
    "import pandas as pd\n",
    "from sklearn.preprocessing import OneHotEncoder\n",
    "\n",
    "# Sample data\n",
    "data = {'species': ['Lion', 'Tiger', 'Bear', 'Lion', 'Tiger'],\n",
    "        'habitat': ['Savannah', 'Jungle', 'Forest', 'Savannah', 'Jungle']}\n",
    "\n",
    "# Create a DataFrame\n",
    "df = pd.DataFrame(data)\n",
    "display(df)\n",
    "\n",
    "# Create an instance of the OneHotEncoder\n",
    "encoder = OneHotEncoder(sparse=False, drop='first')  # Use drop='first' to avoid multicollinearity\n",
    "\n",
    "# Fit and transform the encoder on the categorical columns\n",
    "encoded_data = encoder.fit_transform(df[['species', 'habitat']])\n",
    "\n",
    "# Create a new DataFrame with one-hot encoded columns\n",
    "encoded_df = pd.DataFrame(encoded_data, columns=encoder.get_feature_names_out(['species', 'habitat']))\n",
    "\n",
    "# Concatenate the encoded DataFrame with the original DataFrame\n",
    "result_df = pd.concat([df, encoded_df], axis=1)\n",
    "\n",
    "# Print the result\n",
    "display(result_df)\n"
   ]
  },
  {
   "cell_type": "markdown",
   "metadata": {},
   "source": [
    "2. **Label Encoding**:\n",
    "\n",
    "   - **Justification**: Label encoding is suitable when the categorical variables have a natural ordinal relationship. If, for example, your \"diet\" variable had categories like \"Carnivore,\" \"Herbivore,\" and \"Omnivore,\" you could assign numerical labels (e.g., 1, 2, 3) to represent these categories in a meaningful order.\n",
    "\n",
    "   - **How it works**: Label encoding assigns a unique integer to each category within a variable based on their order or some predefined mapping. It's useful when there's a clear ranking or order among categories.\n",
    "\n",
    "   - **Example**: If you have a \"diet\" variable with categories \"Carnivore,\" \"Herbivore,\" and \"Omnivore,\" you could label encode them as 1, 2, and 3, respectively."
   ]
  },
  {
   "cell_type": "code",
   "execution_count": 17,
   "metadata": {},
   "outputs": [
    {
     "data": {
      "text/html": [
       "<div>\n",
       "<style scoped>\n",
       "    .dataframe tbody tr th:only-of-type {\n",
       "        vertical-align: middle;\n",
       "    }\n",
       "\n",
       "    .dataframe tbody tr th {\n",
       "        vertical-align: top;\n",
       "    }\n",
       "\n",
       "    .dataframe thead th {\n",
       "        text-align: right;\n",
       "    }\n",
       "</style>\n",
       "<table border=\"1\" class=\"dataframe\">\n",
       "  <thead>\n",
       "    <tr style=\"text-align: right;\">\n",
       "      <th></th>\n",
       "      <th>diet</th>\n",
       "      <th>diet_encoded</th>\n",
       "    </tr>\n",
       "  </thead>\n",
       "  <tbody>\n",
       "    <tr>\n",
       "      <th>0</th>\n",
       "      <td>Carnivore</td>\n",
       "      <td>0</td>\n",
       "    </tr>\n",
       "    <tr>\n",
       "      <th>1</th>\n",
       "      <td>Herbivore</td>\n",
       "      <td>1</td>\n",
       "    </tr>\n",
       "    <tr>\n",
       "      <th>2</th>\n",
       "      <td>Omnivore</td>\n",
       "      <td>2</td>\n",
       "    </tr>\n",
       "    <tr>\n",
       "      <th>3</th>\n",
       "      <td>Carnivore</td>\n",
       "      <td>0</td>\n",
       "    </tr>\n",
       "    <tr>\n",
       "      <th>4</th>\n",
       "      <td>Herbivore</td>\n",
       "      <td>1</td>\n",
       "    </tr>\n",
       "  </tbody>\n",
       "</table>\n",
       "</div>"
      ],
      "text/plain": [
       "        diet  diet_encoded\n",
       "0  Carnivore             0\n",
       "1  Herbivore             1\n",
       "2   Omnivore             2\n",
       "3  Carnivore             0\n",
       "4  Herbivore             1"
      ]
     },
     "metadata": {},
     "output_type": "display_data"
    }
   ],
   "source": [
    "import pandas as pd\n",
    "from sklearn.preprocessing import LabelEncoder\n",
    "\n",
    "# Sample data\n",
    "data = {'diet': ['Carnivore', 'Herbivore', 'Omnivore', 'Carnivore', 'Herbivore']}\n",
    "\n",
    "# Create a DataFrame\n",
    "df = pd.DataFrame(data)\n",
    "\n",
    "# Create an instance of the LabelEncoder\n",
    "encoder = LabelEncoder()\n",
    "\n",
    "# Fit and transform the encoder on the categorical column\n",
    "df['diet_encoded'] = encoder.fit_transform(df['diet'])\n",
    "\n",
    "# Print the result\n",
    "display(df)\n"
   ]
  },
  {
   "cell_type": "markdown",
   "metadata": {},
   "source": [
    "`In summary`, the choice between one-hot encoding and label encoding depends on the nature of your categorical variables and whether they have an ordinal relationship or not. For nominal variables like \"species,\" \"habitat,\" and \"diet\" in the context of animal data, one-hot encoding is typically more appropriate because it doesn't assume any inherent order among categories. However, if you had ordinal variables (e.g., \"size\" with categories \"small,\" \"medium,\" \"large\"), label encoding might be a suitable choice."
   ]
  },
  {
   "cell_type": "markdown",
   "metadata": {},
   "source": [
    "---------------------------------------------------------------------------------------------------------------------------"
   ]
  },
  {
   "cell_type": "markdown",
   "metadata": {},
   "source": [
    "Q.No-07    You are working on a project that involves predicting customer churn for a telecommunications company. You have a dataset with 5 features, including the customer's gender, age, contract type, monthly charges, and tenure. Which encoding techniqu(s) would you use to transform the categorical data into numerical data? Provide a step-by-step explanation of how you would implement the encoding."
   ]
  },
  {
   "cell_type": "markdown",
   "metadata": {},
   "source": [
    "Ans :-"
   ]
  },
  {
   "cell_type": "markdown",
   "metadata": {},
   "source": [
    "To transform categorical data into numerical data for predicting customer churn in a telecommunications company, you can use various encoding techniques. The choice of encoding method depends on the nature of the categorical features and the machine learning algorithms you plan to use."
   ]
  },
  {
   "cell_type": "markdown",
   "metadata": {},
   "source": [
    "**`Here, I'll explain how to implement two common encoding techniques` :- Label Encoding and One-Hot Encoding.**"
   ]
  },
  {
   "cell_type": "markdown",
   "metadata": {},
   "source": [
    "**$$Dataset\\ Features\\ -$$**\n",
    "**$$1.\\ Gender\\ (Categorical:\\ Male,\\ Female)$$**\n",
    "**$$2.\\ Contract\\ Type\\ (Categorical:\\ Month-to-Month,\\ One Year,\\ Two Year)$$**\n",
    "**$$3.\\ Monthly\\ Charges\\ (Continuous\\ numerical)$$**\n",
    "**$$4.\\ Tenure\\ (Continuous\\ numerical)$$**"
   ]
  },
  {
   "cell_type": "markdown",
   "metadata": {},
   "source": [
    "**1. Label Encoding:**\n",
    "\n",
    "Label Encoding is suitable for ordinal categorical data, where there is a clear order or ranking among categories. In your dataset, \"Contract Type\" is an ordinal feature because it has a natural order (Month-to-Month < One Year < Two Year)."
   ]
  },
  {
   "cell_type": "markdown",
   "metadata": {},
   "source": [
    "**`Here's how you can implement Label Encoding for the \"Contract Type\" feature` :-**"
   ]
  },
  {
   "cell_type": "code",
   "execution_count": 38,
   "metadata": {},
   "outputs": [
    {
     "data": {
      "text/html": [
       "<div>\n",
       "<style scoped>\n",
       "    .dataframe tbody tr th:only-of-type {\n",
       "        vertical-align: middle;\n",
       "    }\n",
       "\n",
       "    .dataframe tbody tr th {\n",
       "        vertical-align: top;\n",
       "    }\n",
       "\n",
       "    .dataframe thead th {\n",
       "        text-align: right;\n",
       "    }\n",
       "</style>\n",
       "<table border=\"1\" class=\"dataframe\">\n",
       "  <thead>\n",
       "    <tr style=\"text-align: right;\">\n",
       "      <th></th>\n",
       "      <th>Gender</th>\n",
       "      <th>Contract Type</th>\n",
       "      <th>Monthly Charges</th>\n",
       "      <th>Tenure</th>\n",
       "      <th>Churn</th>\n",
       "    </tr>\n",
       "  </thead>\n",
       "  <tbody>\n",
       "    <tr>\n",
       "      <th>0</th>\n",
       "      <td>Male</td>\n",
       "      <td>Month-to-Month</td>\n",
       "      <td>50.0</td>\n",
       "      <td>12</td>\n",
       "      <td>1</td>\n",
       "    </tr>\n",
       "    <tr>\n",
       "      <th>1</th>\n",
       "      <td>Female</td>\n",
       "      <td>One Year</td>\n",
       "      <td>70.0</td>\n",
       "      <td>24</td>\n",
       "      <td>0</td>\n",
       "    </tr>\n",
       "    <tr>\n",
       "      <th>2</th>\n",
       "      <td>Male</td>\n",
       "      <td>Two Year</td>\n",
       "      <td>90.0</td>\n",
       "      <td>36</td>\n",
       "      <td>0</td>\n",
       "    </tr>\n",
       "    <tr>\n",
       "      <th>3</th>\n",
       "      <td>Female</td>\n",
       "      <td>Month-to-Month</td>\n",
       "      <td>60.0</td>\n",
       "      <td>6</td>\n",
       "      <td>1</td>\n",
       "    </tr>\n",
       "    <tr>\n",
       "      <th>4</th>\n",
       "      <td>Male</td>\n",
       "      <td>One Year</td>\n",
       "      <td>80.0</td>\n",
       "      <td>48</td>\n",
       "      <td>0</td>\n",
       "    </tr>\n",
       "  </tbody>\n",
       "</table>\n",
       "</div>"
      ],
      "text/plain": [
       "   Gender   Contract Type  Monthly Charges  Tenure  Churn\n",
       "0    Male  Month-to-Month             50.0      12      1\n",
       "1  Female        One Year             70.0      24      0\n",
       "2    Male        Two Year             90.0      36      0\n",
       "3  Female  Month-to-Month             60.0       6      1\n",
       "4    Male        One Year             80.0      48      0"
      ]
     },
     "metadata": {},
     "output_type": "display_data"
    },
    {
     "name": "stdout",
     "output_type": "stream",
     "text": [
      "\n",
      "Encoded Data Set:\n"
     ]
    },
    {
     "data": {
      "text/html": [
       "<div>\n",
       "<style scoped>\n",
       "    .dataframe tbody tr th:only-of-type {\n",
       "        vertical-align: middle;\n",
       "    }\n",
       "\n",
       "    .dataframe tbody tr th {\n",
       "        vertical-align: top;\n",
       "    }\n",
       "\n",
       "    .dataframe thead th {\n",
       "        text-align: right;\n",
       "    }\n",
       "</style>\n",
       "<table border=\"1\" class=\"dataframe\">\n",
       "  <thead>\n",
       "    <tr style=\"text-align: right;\">\n",
       "      <th></th>\n",
       "      <th>Gender</th>\n",
       "      <th>Contract Type</th>\n",
       "      <th>Monthly Charges</th>\n",
       "      <th>Tenure</th>\n",
       "      <th>Churn</th>\n",
       "      <th>Contract Type (Encoded Data Set)</th>\n",
       "    </tr>\n",
       "  </thead>\n",
       "  <tbody>\n",
       "    <tr>\n",
       "      <th>0</th>\n",
       "      <td>Male</td>\n",
       "      <td>Month-to-Month</td>\n",
       "      <td>50.0</td>\n",
       "      <td>12</td>\n",
       "      <td>1</td>\n",
       "      <td>0</td>\n",
       "    </tr>\n",
       "    <tr>\n",
       "      <th>1</th>\n",
       "      <td>Female</td>\n",
       "      <td>One Year</td>\n",
       "      <td>70.0</td>\n",
       "      <td>24</td>\n",
       "      <td>0</td>\n",
       "      <td>1</td>\n",
       "    </tr>\n",
       "    <tr>\n",
       "      <th>2</th>\n",
       "      <td>Male</td>\n",
       "      <td>Two Year</td>\n",
       "      <td>90.0</td>\n",
       "      <td>36</td>\n",
       "      <td>0</td>\n",
       "      <td>2</td>\n",
       "    </tr>\n",
       "    <tr>\n",
       "      <th>3</th>\n",
       "      <td>Female</td>\n",
       "      <td>Month-to-Month</td>\n",
       "      <td>60.0</td>\n",
       "      <td>6</td>\n",
       "      <td>1</td>\n",
       "      <td>0</td>\n",
       "    </tr>\n",
       "    <tr>\n",
       "      <th>4</th>\n",
       "      <td>Male</td>\n",
       "      <td>One Year</td>\n",
       "      <td>80.0</td>\n",
       "      <td>48</td>\n",
       "      <td>0</td>\n",
       "      <td>1</td>\n",
       "    </tr>\n",
       "  </tbody>\n",
       "</table>\n",
       "</div>"
      ],
      "text/plain": [
       "   Gender   Contract Type  Monthly Charges  Tenure  Churn  \\\n",
       "0    Male  Month-to-Month             50.0      12      1   \n",
       "1  Female        One Year             70.0      24      0   \n",
       "2    Male        Two Year             90.0      36      0   \n",
       "3  Female  Month-to-Month             60.0       6      1   \n",
       "4    Male        One Year             80.0      48      0   \n",
       "\n",
       "   Contract Type (Encoded Data Set)  \n",
       "0                                 0  \n",
       "1                                 1  \n",
       "2                                 2  \n",
       "3                                 0  \n",
       "4                                 1  "
      ]
     },
     "metadata": {},
     "output_type": "display_data"
    }
   ],
   "source": [
    "from sklearn.preprocessing import LabelEncoder\n",
    "import pandas as pd\n",
    "\n",
    "# Create a sample dataset\n",
    "data = pd.DataFrame({\n",
    "    'Gender': ['Male', 'Female', 'Male', 'Female', 'Male'],\n",
    "    'Contract Type': ['Month-to-Month', 'One Year', 'Two Year', 'Month-to-Month', 'One Year'],\n",
    "    'Monthly Charges': [50.0, 70.0, 90.0, 60.0, 80.0],\n",
    "    'Tenure': [12, 24, 36, 6, 48],\n",
    "    'Churn': [1, 0, 0, 1, 0]  # Assuming 1 for churned and 0 for not churned\n",
    "})\n",
    "\n",
    "# Display the sample dataset\n",
    "display(data)\n",
    "\n",
    "# Create a LabelEncoder object\n",
    "label_encoder = LabelEncoder()\n",
    "\n",
    "# Fit and transform the \"Contract_Type\" column (replace with the actual column name)\n",
    "data['Contract Type (Encoded Data Set)'] = label_encoder.fit_transform(data['Contract Type'])\n",
    "\n",
    "# Print out the encoded data set to see if it worked correctly\n",
    "print(\"\\nEncoded Data Set:\")\n",
    "display(data)"
   ]
  },
  {
   "cell_type": "markdown",
   "metadata": {},
   "source": [
    "**2. One-Hot Encoding:**\n",
    "One-Hot Encoding is suitable for nominal categorical data, where there is no inherent order among categories. In your dataset, \"Gender\" is a nominal feature because there is no natural order between \"Male\" and \"Female.\""
   ]
  },
  {
   "cell_type": "markdown",
   "metadata": {},
   "source": [
    "**`Here's how you can implement One-Hot Encoding for the \"Gender\" feature` :-**"
   ]
  },
  {
   "cell_type": "code",
   "execution_count": 41,
   "metadata": {},
   "outputs": [
    {
     "data": {
      "text/html": [
       "<div>\n",
       "<style scoped>\n",
       "    .dataframe tbody tr th:only-of-type {\n",
       "        vertical-align: middle;\n",
       "    }\n",
       "\n",
       "    .dataframe tbody tr th {\n",
       "        vertical-align: top;\n",
       "    }\n",
       "\n",
       "    .dataframe thead th {\n",
       "        text-align: right;\n",
       "    }\n",
       "</style>\n",
       "<table border=\"1\" class=\"dataframe\">\n",
       "  <thead>\n",
       "    <tr style=\"text-align: right;\">\n",
       "      <th></th>\n",
       "      <th>Gender</th>\n",
       "      <th>Contract Type</th>\n",
       "      <th>Monthly Charges</th>\n",
       "      <th>Tenure</th>\n",
       "    </tr>\n",
       "  </thead>\n",
       "  <tbody>\n",
       "    <tr>\n",
       "      <th>0</th>\n",
       "      <td>Male</td>\n",
       "      <td>Month-to-Month</td>\n",
       "      <td>50.0</td>\n",
       "      <td>12</td>\n",
       "    </tr>\n",
       "    <tr>\n",
       "      <th>1</th>\n",
       "      <td>Female</td>\n",
       "      <td>One Year</td>\n",
       "      <td>70.0</td>\n",
       "      <td>24</td>\n",
       "    </tr>\n",
       "    <tr>\n",
       "      <th>2</th>\n",
       "      <td>Male</td>\n",
       "      <td>Two Year</td>\n",
       "      <td>90.0</td>\n",
       "      <td>36</td>\n",
       "    </tr>\n",
       "    <tr>\n",
       "      <th>3</th>\n",
       "      <td>Female</td>\n",
       "      <td>Month-to-Month</td>\n",
       "      <td>60.0</td>\n",
       "      <td>6</td>\n",
       "    </tr>\n",
       "    <tr>\n",
       "      <th>4</th>\n",
       "      <td>Male</td>\n",
       "      <td>One Year</td>\n",
       "      <td>80.0</td>\n",
       "      <td>48</td>\n",
       "    </tr>\n",
       "  </tbody>\n",
       "</table>\n",
       "</div>"
      ],
      "text/plain": [
       "   Gender   Contract Type  Monthly Charges  Tenure\n",
       "0    Male  Month-to-Month             50.0      12\n",
       "1  Female        One Year             70.0      24\n",
       "2    Male        Two Year             90.0      36\n",
       "3  Female  Month-to-Month             60.0       6\n",
       "4    Male        One Year             80.0      48"
      ]
     },
     "metadata": {},
     "output_type": "display_data"
    },
    {
     "data": {
      "text/html": [
       "<div>\n",
       "<style scoped>\n",
       "    .dataframe tbody tr th:only-of-type {\n",
       "        vertical-align: middle;\n",
       "    }\n",
       "\n",
       "    .dataframe tbody tr th {\n",
       "        vertical-align: top;\n",
       "    }\n",
       "\n",
       "    .dataframe thead th {\n",
       "        text-align: right;\n",
       "    }\n",
       "</style>\n",
       "<table border=\"1\" class=\"dataframe\">\n",
       "  <thead>\n",
       "    <tr style=\"text-align: right;\">\n",
       "      <th></th>\n",
       "      <th>Contract Type</th>\n",
       "      <th>Monthly Charges</th>\n",
       "      <th>Tenure</th>\n",
       "      <th>Gender_Female</th>\n",
       "      <th>Gender_Male</th>\n",
       "    </tr>\n",
       "  </thead>\n",
       "  <tbody>\n",
       "    <tr>\n",
       "      <th>0</th>\n",
       "      <td>Month-to-Month</td>\n",
       "      <td>50.0</td>\n",
       "      <td>12</td>\n",
       "      <td>False</td>\n",
       "      <td>True</td>\n",
       "    </tr>\n",
       "    <tr>\n",
       "      <th>1</th>\n",
       "      <td>One Year</td>\n",
       "      <td>70.0</td>\n",
       "      <td>24</td>\n",
       "      <td>True</td>\n",
       "      <td>False</td>\n",
       "    </tr>\n",
       "    <tr>\n",
       "      <th>2</th>\n",
       "      <td>Two Year</td>\n",
       "      <td>90.0</td>\n",
       "      <td>36</td>\n",
       "      <td>False</td>\n",
       "      <td>True</td>\n",
       "    </tr>\n",
       "    <tr>\n",
       "      <th>3</th>\n",
       "      <td>Month-to-Month</td>\n",
       "      <td>60.0</td>\n",
       "      <td>6</td>\n",
       "      <td>True</td>\n",
       "      <td>False</td>\n",
       "    </tr>\n",
       "    <tr>\n",
       "      <th>4</th>\n",
       "      <td>One Year</td>\n",
       "      <td>80.0</td>\n",
       "      <td>48</td>\n",
       "      <td>False</td>\n",
       "      <td>True</td>\n",
       "    </tr>\n",
       "  </tbody>\n",
       "</table>\n",
       "</div>"
      ],
      "text/plain": [
       "    Contract Type  Monthly Charges  Tenure  Gender_Female  Gender_Male\n",
       "0  Month-to-Month             50.0      12          False         True\n",
       "1        One Year             70.0      24           True        False\n",
       "2        Two Year             90.0      36          False         True\n",
       "3  Month-to-Month             60.0       6           True        False\n",
       "4        One Year             80.0      48          False         True"
      ]
     },
     "metadata": {},
     "output_type": "display_data"
    }
   ],
   "source": [
    "import pandas as pd\n",
    "\n",
    "# Create a sample dataset\n",
    "data2 = pd.DataFrame({\n",
    "    'Gender': ['Male', 'Female', 'Male', 'Female', 'Male'],\n",
    "    'Contract Type': ['Month-to-Month', 'One Year', 'Two Year', 'Month-to-Month', 'One Year'],\n",
    "    'Monthly Charges': [50.0, 70.0, 90.0, 60.0, 80.0],\n",
    "    'Tenure': [12, 24, 36, 6, 48]\n",
    "})\n",
    "\n",
    "# Display the sample dataset\n",
    "display(data2)\n",
    "\n",
    "\n",
    "# Use pandas get_dummies() function for one-hot encoding\n",
    "data3 = pd.get_dummies(data2, columns=['Gender'], prefix=['Gender'])\n",
    "\n",
    "\n",
    "display(data3)"
   ]
  },
  {
   "cell_type": "markdown",
   "metadata": {},
   "source": [
    "Now, your categorical data is represented numerically, and you can use this transformed dataset for training machine learning models to predict customer churn. Remember to scale or normalize the numerical features (Monthly Charges and Tenure) as well before training your model, as this can help improve model performance."
   ]
  },
  {
   "cell_type": "markdown",
   "metadata": {},
   "source": [
    "                                        END"
   ]
  }
 ],
 "metadata": {
  "kernelspec": {
   "display_name": "Python 3",
   "language": "python",
   "name": "python3"
  },
  "language_info": {
   "codemirror_mode": {
    "name": "ipython",
    "version": 3
   },
   "file_extension": ".py",
   "mimetype": "text/x-python",
   "name": "python",
   "nbconvert_exporter": "python",
   "pygments_lexer": "ipython3",
   "version": "3.9.13"
  },
  "orig_nbformat": 4
 },
 "nbformat": 4,
 "nbformat_minor": 2
}
